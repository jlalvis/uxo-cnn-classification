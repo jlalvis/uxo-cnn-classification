{
 "cells": [
  {
   "cell_type": "markdown",
   "metadata": {},
   "source": [
    "## Training fully-convolutional network with synthetic data"
   ]
  },
  {
   "cell_type": "code",
   "execution_count": 1,
   "metadata": {},
   "outputs": [],
   "source": [
    "import numpy as np\n",
    "import os\n",
    "import torch\n",
    "import time\n",
    "from torch import nn\n",
    "from torch.nn import functional\n",
    "from torch.utils.data import Dataset, DataLoader\n",
    "import random\n",
    "\n",
    "import matplotlib.pyplot as plt\n",
    "from matplotlib import cm as cmap\n",
    "from matplotlib import colors\n",
    "from matplotlib.colors import Normalize\n",
    "from matplotlib.lines import Line2D\n",
    "from mpl_toolkits import mplot3d\n",
    "\n",
    "#import uxo_utils\n",
    "\n",
    "from uxo_cnn_classification import (\n",
    "    train_net, SurveyParameters, \n",
    "    normalize_data, data3dorder,\n",
    "    accuracy, get_mislabeled,\n",
    "    confusion_matrix, load_sensor_info\n",
    ")"
   ]
  },
  {
   "cell_type": "code",
   "execution_count": 2,
   "metadata": {},
   "outputs": [],
   "source": [
    "# initialization random seed for training and number of epochs:\n",
    "seeds = [4750, 5293, 9254]\n",
    "rseed = seeds[0]\n",
    "nepochs = 20"
   ]
  },
  {
   "cell_type": "raw",
   "metadata": {},
   "source": [
    "# sequim 2022\n",
    "class_dict = {\n",
    "    0: \"not TOI\",\n",
    "    1: \"ISO Large\",\n",
    "    2: \"Howitzer Replica\",\n",
    "    3: \"105mm HEAT\",\n",
    "    4: \"ISO Medium\",\n",
    "    5: \"155mm Howitzer\",\n",
    "    6: \"105mm M60\",\n",
    "    7: \"81mm M821\",\n",
    "    8: \"60mm M49\",\n",
    "    9: \"40mm L70\",\n",
    "    10: \"clutter0\",\n",
    "    11: \"clutter1\",\n",
    "}\n",
    "survpars = SurveyParameters(\n",
    "    sensor_type = 'ultratema',\n",
    "    ymax = 4.5,\n",
    "    y_spacing = 0.3,\n",
    "    min_standoff = 0.4,\n",
    "    #noise_file = ''\n",
    ")\n",
    "train_case = 'sequim2022'"
   ]
  },
  {
   "cell_type": "raw",
   "metadata": {},
   "source": [
    "# sequim group 2022\n",
    "class_dict = {\n",
    "    0: \"not TOI\",\n",
    "    1: \"155mm group\",\n",
    "    2: \"105mm group\",\n",
    "    3: \"81mm group\",\n",
    "    4: \"60mm M49\",\n",
    "    5: \"40mm L70\",\n",
    "    6: \"clutter0\",\n",
    "    7: \"clutter1\"\n",
    "}\n",
    "survpars = SurveyParameters(\n",
    "    sensor_type = 'ultratema',\n",
    "    ymax = 4.5,\n",
    "    y_spacing = 0.3,\n",
    "    min_standoff = 0.4,\n",
    "    #noise_file = ''\n",
    ")\n",
    "train_case = 'sequimgroup2022'"
   ]
  },
  {
   "cell_type": "raw",
   "metadata": {},
   "source": [
    "# sequim 2021\n",
    "class_dict = {\n",
    "    0: \"not TOI\",\n",
    "    1: \"105mm\",\n",
    "    2: \"155mm\",\n",
    "    3: \"81mm\",\n",
    "    4: \"60mm\",\n",
    "    5: \"40mm\",\n",
    "    6: \"clutter0\",\n",
    "    7: \"clutter1\"\n",
    "}\n",
    "survpars = SurveyParameters(\n",
    "    sensor_type = 'ultratema',\n",
    "    ymax = 4.5,\n",
    "    y_spacing = 0.3,\n",
    "    min_standoff = 0.5,\n",
    "    #noise_file = ''\n",
    ")\n",
    "train_case = 'sequim2021'"
   ]
  },
  {
   "cell_type": "code",
   "execution_count": 3,
   "metadata": {},
   "outputs": [],
   "source": [
    "# sequim group 2021\n",
    "class_dict = {\n",
    "    0: \"not TOI\",\n",
    "    1: \"155mm group\",\n",
    "    2: \"105mm group\",\n",
    "    3: \"81mm group\",\n",
    "    4: \"60mm M49\",\n",
    "    5: \"40mm L70\",\n",
    "    6: \"clutter0\",\n",
    "    7: \"clutter1\",\n",
    "    8: \"clutter2\"\n",
    "}\n",
    "survpars = SurveyParameters(\n",
    "    sensor_type = 'ultratema',\n",
    "    ymax = 4.5,\n",
    "    y_spacing = 0.3,\n",
    "    min_standoff = 0.5,\n",
    "    #noise_file = ''\n",
    ")\n",
    "train_case = 'sequimgroup2021'"
   ]
  },
  {
   "cell_type": "raw",
   "metadata": {},
   "source": [
    "# strath\n",
    "class_dict = {\n",
    "    0: \"not TOI\",\n",
    "    1: \"ISO Small\",\n",
    "    2: \"ISO Medium\", \n",
    "    3: \"ISO Large\",\n",
    "    4: \"clutter0\"\n",
    "}\n",
    "survpars = SurveyParameters(\n",
    "    sensor_type = 'ultratem',\n",
    "    ymax = 4.,\n",
    "    y_spacing = 0.2,\n",
    "    min_standoff = 0.28,\n",
    "    #noise_file = ''\n",
    ")\n",
    "train_case = 'strath'"
   ]
  },
  {
   "cell_type": "code",
   "execution_count": 4,
   "metadata": {},
   "outputs": [],
   "source": [
    "sensorinfo = load_sensor_info(survpars.sensor_type)\n",
    "n_class = len(class_dict.keys())\n",
    "#ntx = len(sensorinfo.transmitters)\n",
    "#nrx = len(sensorinfo.receivers)//3 # number of receiver cubes\n",
    "ntx = sensorinfo.ntx\n",
    "nrx = sensorinfo.nrx\n",
    "dy = survpars.y_spacing / ntx\n",
    "nloc = int(survpars.ymax/dy)\n",
    "ncycles = int(nloc/ntx)\n",
    "\n",
    "times = np.load(os.path.sep.join([f'/home/jorge/git/uxo-btg-synthetic/data_{train_case}', \"times.npy\"]))"
   ]
  },
  {
   "cell_type": "markdown",
   "metadata": {},
   "source": [
    "### Load synthetic data, labels and label masks:"
   ]
  },
  {
   "cell_type": "code",
   "execution_count": 5,
   "metadata": {},
   "outputs": [],
   "source": [
    "class UXOResponseDataset(Dataset):\n",
    "    def __init__(self, labels_file, labmasks_file, root_dir, transform=None):\n",
    "        \"\"\"\n",
    "        Arguments:\n",
    "            csv_file (string): Path to the csv file with annotations.\n",
    "            root_dir (string): Directory with all the images.\n",
    "            transform (callable, optional): Optional transform to be applied\n",
    "                on a sample.\n",
    "        \"\"\"\n",
    "        self.labels = np.load(labels_file)\n",
    "        self.labmasks = np.load(labmasks_file)\n",
    "        self.root_dir = root_dir\n",
    "        self.transform = transform\n",
    "        \n",
    "    def __len__(self):\n",
    "        return len(self.labels)\n",
    "    \n",
    "    def __getitem__(self, idx):\n",
    "        if torch.is_tensor(idx):\n",
    "            idx = idx.tolist()\n",
    "            \n",
    "        data = np.load(os.path.join(self.root_dir, f'data{idx}.npy'))\n",
    "        label = self.labels[idx]\n",
    "        labmask = self.labmasks[idx]\n",
    "        sample = {'data': data, 'label': label, 'labmask': labmask}\n",
    "        \n",
    "        if self.transform:\n",
    "            sample = self.transform(sample)\n",
    "\n",
    "        return sample\n",
    "    \n",
    "class ToTensor(object):\n",
    "    \"\"\"Convert ndarrays in sample to Tensors.\"\"\"\n",
    "\n",
    "    def __call__(self, sample):\n",
    "        data, labels, labmasks = sample['data'], sample['label'], sample['labmask']\n",
    "        return {'data': torch.from_numpy(np.float32(data)),\n",
    "                #'labels': torch.Tensor(labels),\n",
    "                'labmask': torch.from_numpy(np.float32(labmasks))}\n",
    "        "
   ]
  },
  {
   "cell_type": "code",
   "execution_count": 6,
   "metadata": {},
   "outputs": [],
   "source": [
    "uxoresponse_train = UXOResponseDataset(labels_file=f'/home/jorge/git/uxo-btg-synthetic/data_{train_case}/labels.npy',\n",
    "                                         labmasks_file=f'/home/jorge/git/uxo-btg-synthetic/data_{train_case}/labmasks.npy',\n",
    "                                         root_dir=f'/home/jorge/git/uxo-btg-synthetic/data_{train_case}',\n",
    "                                         transform=ToTensor())"
   ]
  },
  {
   "cell_type": "code",
   "execution_count": 7,
   "metadata": {},
   "outputs": [],
   "source": [
    "uxoresponse_test = UXOResponseDataset(labels_file=f'/home/jorge/git/uxo-btg-synthetic/datatest_{train_case}/labels.npy',\n",
    "                                         labmasks_file=f'/home/jorge/git/uxo-btg-synthetic/datatest_{train_case}/labmasks.npy',\n",
    "                                         root_dir=f'/home/jorge/git/uxo-btg-synthetic/datatest_{train_case}',\n",
    "                                         transform=ToTensor())"
   ]
  },
  {
   "cell_type": "code",
   "execution_count": 8,
   "metadata": {},
   "outputs": [],
   "source": [
    "dataloader_train = DataLoader(uxoresponse_train, batch_size=32, shuffle=True, num_workers=0)\n",
    "dataloader_test = DataLoader(uxoresponse_test, batch_size=100, shuffle=True, num_workers=0)"
   ]
  },
  {
   "cell_type": "markdown",
   "metadata": {},
   "source": [
    "## Plot some label masks samples:"
   ]
  },
  {
   "cell_type": "code",
   "execution_count": 9,
   "metadata": {},
   "outputs": [],
   "source": [
    "import matplotlib as mpl\n",
    "from matplotlib.colors import ListedColormap, LinearSegmentedColormap\n",
    "if len(class_dict) > 10:\n",
    "    tab10_list = [mpl.cm.tab10.colors[i] for i in range(10)]\n",
    "    added_colors = [mpl.colors.to_rgb(c) for c in [\"#ebb50a\",\"lightgreen\"]][:len(class_dict)-10] # added color to standard tab10\n",
    "    my_cmap = ListedColormap(tab10_list + added_colors, name=\"my_cmap\")\n",
    "else:\n",
    "    my_cmap = ListedColormap([mpl.cm.tab10.colors[i] for i in range(len(class_dict))], name=\"my_cmap\")"
   ]
  },
  {
   "cell_type": "code",
   "execution_count": 10,
   "metadata": {},
   "outputs": [
    {
     "data": {
      "text/plain": [
       "<matplotlib.legend.Legend at 0x7f5092b42770>"
      ]
     },
     "execution_count": 10,
     "metadata": {},
     "output_type": "execute_result"
    },
    {
     "data": {
      "image/png": "[encoded data removed]",
      "text/plain": [
       "<Figure size 300x180 with 1 Axes>"
      ]
     },
     "metadata": {},
     "output_type": "display_data"
    }
   ],
   "source": [
    "# show labels and colors:\n",
    "fig, ax = plt.subplots(figsize=(3, n_class*0.2))\n",
    "\n",
    "marker_size=6\n",
    "mew = 1.0\n",
    "custom_lines = [Line2D([0], [0], c=\"w\", marker='o', ms=marker_size, mfc=my_cmap.colors[i], mec=\"k\", lw=1.0, mew=mew) for i in range(len(class_dict))]\n",
    "\n",
    "ax.axis('off')\n",
    "ax.legend(custom_lines, ['background'] + list(class_dict.values())[1:], loc=\"lower right\", fontsize=12)"
   ]
  },
  {
   "cell_type": "code",
   "execution_count": 11,
   "metadata": {},
   "outputs": [
    {
     "data": {
      "image/png": "[encoded data removed]",
      "text/plain": [
       "<Figure size 800x400 with 33 Axes>"
      ]
     },
     "metadata": {},
     "output_type": "display_data"
    }
   ],
   "source": [
    "# get masks for random samples\n",
    "fig, ax = plt.subplots(4,8,figsize=(1.0*8,1.0*4))\n",
    "labmask_batch = next(iter(dataloader_train))['labmask']\n",
    "\n",
    "ax = ax.ravel()\n",
    "for i,lm in enumerate(labmask_batch):\n",
    "    out = ax[i].pcolormesh(lm,vmin=0,vmax=n_class-1, cmap=my_cmap)\n",
    "    if i%8 != 0:\n",
    "        ax[i].set_yticklabels([])\n",
    "    if i < 24:\n",
    "        ax[i].set_xticklabels([])\n",
    "\n",
    "plt.setp(ax,aspect=1)\n",
    "\n",
    "fig.subplots_adjust(bottom=0.2)\n",
    "cbar_ax = fig.add_axes([0.25, 0.07, 0.5, 0.02])\n",
    "cb = plt.colorbar(out, cbar_ax, orientation=\"horizontal\")\n",
    "cb.set_label('class')"
   ]
  },
  {
   "cell_type": "markdown",
   "metadata": {},
   "source": [
    "### Train neural net:"
   ]
  },
  {
   "cell_type": "code",
   "execution_count": 12,
   "metadata": {},
   "outputs": [],
   "source": [
    "cnn_pars_dir = os.path.join(os.getcwd(), 'cnn_parameters')\n",
    "\n",
    "if not os.path.exists(cnn_pars_dir):\n",
    "    os.mkdir(cnn_pars_dir)"
   ]
  },
  {
   "cell_type": "code",
   "execution_count": 13,
   "metadata": {},
   "outputs": [
    {
     "name": "stdout",
     "output_type": "stream",
     "text": [
      "gpu detected, training will use it.\n",
      "Total number of parameters 784531\n",
      "Total number of training data 110000\n",
      "Initial loss =  2.042385\n",
      "Check:log(9) =  2.1972245773362196\n",
      "\n",
      "Initial accuracy: 0.10894444444444444\n",
      "Check random    : 0.1111111111111111\n",
      "epoch:   0, loss: 6.917e-01, accuracy: 0.782\n",
      "epoch:   1, loss: 6.005e-01, accuracy: 0.834\n",
      "epoch:   2, loss: 5.784e-01, accuracy: 0.808\n",
      "epoch:   3, loss: 5.662e-01, accuracy: 0.906\n",
      "epoch:   4, loss: 5.578e-01, accuracy: 0.799\n",
      "epoch:   5, loss: 5.510e-01, accuracy: 0.931\n",
      "epoch:   6, loss: 5.471e-01, accuracy: 0.929\n",
      "epoch:   7, loss: 5.435e-01, accuracy: 0.871\n",
      "epoch:   8, loss: 5.400e-01, accuracy: 0.928\n",
      "epoch:   9, loss: 5.369e-01, accuracy: 0.892\n",
      "epoch:  10, loss: 5.352e-01, accuracy: 0.861\n",
      "epoch:  11, loss: 5.327e-01, accuracy: 0.867\n",
      "epoch:  12, loss: 5.314e-01, accuracy: 0.940\n",
      "epoch:  13, loss: 5.294e-01, accuracy: 0.922\n",
      "epoch:  14, loss: 5.278e-01, accuracy: 0.917\n",
      "epoch:  15, loss: 5.269e-01, accuracy: 0.794\n",
      "epoch:  16, loss: 5.259e-01, accuracy: 0.897\n",
      "epoch:  17, loss: 5.245e-01, accuracy: 0.922\n",
      "epoch:  18, loss: 5.241e-01, accuracy: 0.938\n",
      "epoch:  19, loss: 5.223e-01, accuracy: 0.917\n",
      "loss_test: 1.778e-02, accuracy_test: 0.538\n",
      "Finished Training in 4100.2817 seconds\n"
     ]
    }
   ],
   "source": [
    "logfile = os.path.join(cnn_pars_dir, f'trainlog_{train_case}_{rseed}')\n",
    "net = train_net(survpars, class_dict, dataloader_train, dataloader_test, times, rseed, nepochs, logfile)"
   ]
  },
  {
   "cell_type": "code",
   "execution_count": 14,
   "metadata": {},
   "outputs": [],
   "source": [
    "# save trained parameters:\n",
    "torch.save(net.state_dict(), os.path.join(cnn_pars_dir, f'net{train_case}_{rseed}.pth'))"
   ]
  },
  {
   "cell_type": "code",
   "execution_count": 15,
   "metadata": {},
   "outputs": [],
   "source": [
    "# send cnn to cpu for evaluation:\n",
    "if torch.device != 'cpu':\n",
    "    net.cpu()"
   ]
  },
  {
   "cell_type": "code",
   "execution_count": 16,
   "metadata": {},
   "outputs": [
    {
     "data": {
      "text/plain": [
       "ConvNet(\n",
       "  (K3d): ParameterList(\n",
       "      (0): Parameter containing: [torch.FloatTensor of size 16x12x3x3x3]\n",
       "      (1): Parameter containing: [torch.FloatTensor of size 16x16x3x3x3]\n",
       "      (2): Parameter containing: [torch.FloatTensor of size 16x16x3x3x3]\n",
       "      (3): Parameter containing: [torch.FloatTensor of size 16x16x3x3x3]\n",
       "  )\n",
       "  (bnorms3d): ModuleList(\n",
       "    (0): BatchNorm3d(12, eps=1e-05, momentum=0.1, affine=True, track_running_stats=True)\n",
       "    (1): BatchNorm3d(16, eps=1e-05, momentum=0.1, affine=True, track_running_stats=True)\n",
       "    (2): BatchNorm3d(16, eps=1e-05, momentum=0.1, affine=True, track_running_stats=True)\n",
       "    (3): BatchNorm3d(16, eps=1e-05, momentum=0.1, affine=True, track_running_stats=True)\n",
       "    (4): BatchNorm3d(16, eps=1e-05, momentum=0.1, affine=True, track_running_stats=True)\n",
       "  )\n",
       "  (K2d): ParameterList(\n",
       "      (0): Parameter containing: [torch.FloatTensor of size 128x400x3x3]\n",
       "      (1): Parameter containing: [torch.FloatTensor of size 128x128x3x3]\n",
       "      (2): Parameter containing: [torch.FloatTensor of size 128x128x3x3]\n",
       "  )\n",
       "  (bnorms2d): ModuleList(\n",
       "    (0): BatchNorm2d(400, eps=1e-05, momentum=0.1, affine=True, track_running_stats=True)\n",
       "    (1): BatchNorm2d(128, eps=1e-05, momentum=0.1, affine=True, track_running_stats=True)\n",
       "    (2): BatchNorm2d(128, eps=1e-05, momentum=0.1, affine=True, track_running_stats=True)\n",
       "    (3): BatchNorm2d(128, eps=1e-05, momentum=0.1, affine=True, track_running_stats=True)\n",
       "  )\n",
       "  (bnout): BatchNorm2d(9, eps=1e-05, momentum=0.1, affine=True, track_running_stats=True)\n",
       ")"
      ]
     },
     "execution_count": 16,
     "metadata": {},
     "output_type": "execute_result"
    }
   ],
   "source": [
    "net.eval()"
   ]
  },
  {
   "cell_type": "code",
   "execution_count": 17,
   "metadata": {},
   "outputs": [],
   "source": [
    "dtrain, labmask_train = next(iter(dataloader_train)).values()\n",
    "dtest, labmask_test = next(iter(dataloader_test)).values()"
   ]
  },
  {
   "cell_type": "code",
   "execution_count": 18,
   "metadata": {},
   "outputs": [
    {
     "data": {
      "text/plain": [
       "torch.Size([100, 12, 12, 15, 25])"
      ]
     },
     "execution_count": 18,
     "metadata": {},
     "output_type": "execute_result"
    }
   ],
   "source": [
    "dtest.shape"
   ]
  },
  {
   "cell_type": "code",
   "execution_count": 20,
   "metadata": {},
   "outputs": [
    {
     "name": "stdout",
     "output_type": "stream",
     "text": [
      "training accuracy: 0.9368\n",
      "test accuracy    : 0.9295\n"
     ]
    }
   ],
   "source": [
    "# training set\n",
    "\n",
    "x_train_net, probs_train = net(dtrain)\n",
    "_, pred_train = torch.max(probs_train, dim=1)\n",
    "\n",
    "# test set\n",
    "x_test_net, probs_test = net(dtest)\n",
    "_, pred_test = torch.max(probs_test, dim=1)\n",
    "\n",
    "print(f\"training accuracy: {accuracy(probs_train, labmask_train):1.4f}\")\n",
    "print(f\"test accuracy    : {accuracy(probs_test, labmask_test):1.4f}\")\n",
    "\n",
    "#cc = probs_to_classes(probs_train)"
   ]
  },
  {
   "cell_type": "raw",
   "metadata": {},
   "source": [
    "# See where it struggled:\n",
    "M = confusion_matrix(C_test.reshape(100,-1), pred_test.numpy().reshape(100,-1))"
   ]
  },
  {
   "cell_type": "raw",
   "metadata": {},
   "source": [
    "M"
   ]
  },
  {
   "cell_type": "markdown",
   "metadata": {},
   "source": [
    "### Plot predicted vs true"
   ]
  },
  {
   "cell_type": "code",
   "execution_count": 22,
   "metadata": {},
   "outputs": [
    {
     "data": {
      "image/png": "[encoded data removed]",
      "text/plain": [
       "<Figure size 900x200 with 9 Axes>"
      ]
     },
     "metadata": {},
     "output_type": "display_data"
    }
   ],
   "source": [
    "indt = 5\n",
    "fig,ax = plt.subplots(1,n_class,figsize=(1.0*n_class,2.0))\n",
    "\n",
    "for i in range(n_class):\n",
    "    ax[i].pcolormesh(probs_test[indt,i,:,:].detach(),vmin=0,vmax=1,cmap='viridis')\n",
    "    ax[i].set_aspect(1)"
   ]
  },
  {
   "cell_type": "code",
   "execution_count": 23,
   "metadata": {},
   "outputs": [
    {
     "data": {
      "image/png": "[encoded data removed]",
      "text/plain": [
       "<Figure size 300x200 with 2 Axes>"
      ]
     },
     "metadata": {},
     "output_type": "display_data"
    }
   ],
   "source": [
    "fig,ax = plt.subplots(1,2,figsize=(1.5*2,2.0))\n",
    "\n",
    "ax[0].pcolormesh(labmask_test[indt,:,:],vmin=0,vmax=n_class-1,cmap=my_cmap)\n",
    "ax[0].set_aspect(1)\n",
    "ax[1].pcolormesh(pred_test[indt,:,:],vmin=0,vmax=n_class-1,cmap=my_cmap)\n",
    "ax[1].set_aspect(1)"
   ]
  },
  {
   "cell_type": "code",
   "execution_count": null,
   "metadata": {},
   "outputs": [],
   "source": []
  }
 ],
 "metadata": {
  "kernelspec": {
   "display_name": "pytorch",
   "language": "python",
   "name": "pytorch"
  },
  "language_info": {
   "codemirror_mode": {
    "name": "ipython",
    "version": 3
   },
   "file_extension": ".py",
   "mimetype": "text/x-python",
   "name": "python",
   "nbconvert_exporter": "python",
   "pygments_lexer": "ipython3",
   "version": "3.10.6"
  }
 },
 "nbformat": 4,
 "nbformat_minor": 4
}
