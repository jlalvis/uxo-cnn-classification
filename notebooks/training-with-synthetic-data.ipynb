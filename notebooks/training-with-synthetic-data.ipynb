{
 "cells": [
  {
   "cell_type": "markdown",
   "metadata": {},
   "source": [
    "## Training fully-convolutional network with synthetic data"
   ]
  },
  {
   "cell_type": "code",
   "execution_count": 1,
   "metadata": {},
   "outputs": [],
   "source": [
    "import numpy as np\n",
    "import os\n",
    "import torch\n",
    "import time\n",
    "from torch import nn\n",
    "from torch.nn import functional\n",
    "import random\n",
    "\n",
    "import matplotlib.pyplot as plt\n",
    "from matplotlib import cm as cmap\n",
    "from matplotlib import colors\n",
    "from matplotlib.colors import Normalize\n",
    "from matplotlib.lines import Line2D\n",
    "from mpl_toolkits import mplot3d\n",
    "\n",
    "#import uxo_utils\n",
    "\n",
    "from uxo_cnn_classification import (\n",
    "    train_net, SurveyParameters, \n",
    "    normalize_data, data3dorder,\n",
    "    accuracy, get_mislabeled,\n",
    "    confusion_matrix, load_sensor_info\n",
    ")"
   ]
  },
  {
   "cell_type": "code",
   "execution_count": 2,
   "metadata": {},
   "outputs": [],
   "source": [
    "# initialization random seed for training and number of epochs:\n",
    "seeds = [4750, 5293, 9254]\n",
    "rseed = seeds[1]\n",
    "nepochs = 20"
   ]
  },
  {
   "cell_type": "raw",
   "metadata": {},
   "source": [
    "# sequim 2022\n",
    "class_dict = {\n",
    "    0: \"not TOI\",\n",
    "    1: \"ISO Large\",\n",
    "    2: \"Howitzer Replica\",\n",
    "    3: \"105mm HEAT\",\n",
    "    4: \"ISO Medium\",\n",
    "    5: \"155mm Howitzer\",\n",
    "    6: \"105mm M60\",\n",
    "    7: \"81mm M821\",\n",
    "    8: \"60mm M49\",\n",
    "    9: \"40mm L70\",\n",
    "    10: \"clutter0\",\n",
    "    11: \"clutter1\",\n",
    "}\n",
    "survpars = SurveyParameters(\n",
    "    sensor_type = 'ultratema',\n",
    "    ymax = 4.5,\n",
    "    y_spacing = 0.3,\n",
    "    min_standoff = 0.4,\n",
    "    #noise_file = ''\n",
    ")\n",
    "train_case = 'sequim2022'"
   ]
  },
  {
   "cell_type": "raw",
   "metadata": {},
   "source": [
    "# sequim group 2022\n",
    "class_dict = {\n",
    "    0: \"not TOI\",\n",
    "    1: \"155mm group\",\n",
    "    2: \"105mm group\",\n",
    "    3: \"81mm group\",\n",
    "    4: \"60mm M49\",\n",
    "    5: \"40mm L70\",\n",
    "    6: \"clutter0\",\n",
    "    7: \"clutter1\"\n",
    "}\n",
    "survpars = SurveyParameters(\n",
    "    sensor_type = 'ultratema',\n",
    "    ymax = 4.5,\n",
    "    y_spacing = 0.3,\n",
    "    min_standoff = 0.4,\n",
    "    #noise_file = ''\n",
    ")\n",
    "train_case = 'sequimgroup2022'"
   ]
  },
  {
   "cell_type": "raw",
   "metadata": {},
   "source": [
    "# sequim 2021\n",
    "class_dict = {\n",
    "    0: \"not TOI\",\n",
    "    1: \"105mm\",\n",
    "    2: \"155mm\",\n",
    "    3: \"81mm\",\n",
    "    4: \"60mm\",\n",
    "    5: \"40mm\",\n",
    "    6: \"clutter0\",\n",
    "    7: \"clutter1\"\n",
    "}\n",
    "survpars = SurveyParameters(\n",
    "    sensor_type = 'ultratema',\n",
    "    ymax = 4.5,\n",
    "    y_spacing = 0.3,\n",
    "    min_standoff = 0.5,\n",
    "    #noise_file = ''\n",
    ")\n",
    "train_case = 'sequim2021'"
   ]
  },
  {
   "cell_type": "code",
   "execution_count": 3,
   "metadata": {},
   "outputs": [],
   "source": [
    "# sequim group 2021\n",
    "class_dict = {\n",
    "    0: \"not TOI\",\n",
    "    1: \"155mm group\",\n",
    "    2: \"105mm group\",\n",
    "    3: \"81mm group\",\n",
    "    4: \"60mm M49\",\n",
    "    5: \"40mm L70\",\n",
    "    6: \"clutter0\",\n",
    "    7: \"clutter1\",\n",
    "    8: \"clutter2\"\n",
    "}\n",
    "survpars = SurveyParameters(\n",
    "    sensor_type = 'ultratema',\n",
    "    ymax = 4.5,\n",
    "    y_spacing = 0.3,\n",
    "    min_standoff = 0.5,\n",
    "    #noise_file = ''\n",
    ")\n",
    "train_case = 'sequimgroup2021'"
   ]
  },
  {
   "cell_type": "raw",
   "metadata": {},
   "source": [
    "# strath\n",
    "class_dict = {\n",
    "    0: \"not TOI\",\n",
    "    1: \"ISO Small\",\n",
    "    2: \"ISO Medium\", \n",
    "    3: \"ISO Large\",\n",
    "    4: \"clutter0\"\n",
    "}\n",
    "survpars = SurveyParameters(\n",
    "    sensor_type = 'ultratem',\n",
    "    ymax = 4.,\n",
    "    y_spacing = 0.2,\n",
    "    min_standoff = 0.28,\n",
    "    #noise_file = ''\n",
    ")\n",
    "train_case = 'strath'"
   ]
  },
  {
   "cell_type": "code",
   "execution_count": 4,
   "metadata": {},
   "outputs": [],
   "source": [
    "sensorinfo = load_sensor_info(survpars.sensor_type)\n",
    "n_class = len(class_dict.keys())\n",
    "#ntx = len(sensorinfo.transmitters)\n",
    "#nrx = len(sensorinfo.receivers)//3 # number of receiver cubes\n",
    "ntx = sensorinfo.ntx\n",
    "nrx = sensorinfo.nrx\n",
    "dy = survpars.y_spacing / ntx\n",
    "nloc = int(survpars.ymax/dy)\n",
    "ncycles = int(nloc/ntx)"
   ]
  },
  {
   "cell_type": "markdown",
   "metadata": {},
   "source": [
    "### Load synthetic data, labels and label masks:"
   ]
  },
  {
   "cell_type": "code",
   "execution_count": 5,
   "metadata": {},
   "outputs": [],
   "source": [
    "data_directory = f\"/home/jorge/git/uxo-btg-synthetic/data_{train_case}\""
   ]
  },
  {
   "cell_type": "code",
   "execution_count": 6,
   "metadata": {},
   "outputs": [],
   "source": [
    "# training dataset is split in different files (mainly to handle memory more efficiently while simulating synthetic data)\n",
    "nfiles = 2 # here, the last file will be used as test data"
   ]
  },
  {
   "cell_type": "code",
   "execution_count": 7,
   "metadata": {},
   "outputs": [],
   "source": [
    "#pos = np.load(os.path.sep.join([data_directory, \"pos.npy\"]))\n",
    "times = np.load(os.path.sep.join([data_directory, \"times.npy\"]))\n",
    "#sensor_table = np.load(os.path.sep.join([data_directory, \"sensor_table.npy\"]))\n",
    "\n",
    "labstrain_list = []\n",
    "for i in range(nfiles-1): # number of files\n",
    "    labstrain_list.append(np.load(os.path.sep.join([data_directory, f\"labels{i}.npy\"])))\n",
    "    \n",
    "labels_train = np.vstack(labstrain_list)\n",
    "labels_test = np.load(os.path.sep.join([data_directory, f\"labels{nfiles-1}.npy\"]))"
   ]
  },
  {
   "cell_type": "code",
   "execution_count": 8,
   "metadata": {},
   "outputs": [],
   "source": [
    "ntimes = len(times)"
   ]
  },
  {
   "cell_type": "code",
   "execution_count": 9,
   "metadata": {},
   "outputs": [],
   "source": [
    "labmask_list = []\n",
    "for i in range(nfiles-1): # number of files\n",
    "    labmask_list.append(np.load(os.path.sep.join([data_directory, f\"labmask{i}.npy\"])))\n",
    "    \n",
    "labmask_train = np.vstack(labmask_list)\n",
    "\n",
    "labmask_test = np.load(os.path.sep.join([data_directory, f\"labmask{nfiles-1}.npy\"]))"
   ]
  },
  {
   "cell_type": "code",
   "execution_count": 10,
   "metadata": {},
   "outputs": [],
   "source": [
    "dtrain_list = []\n",
    "for i in range(nfiles-1): # number of files\n",
    "    dtrain_list.append(np.load(os.path.sep.join([data_directory, f\"data{i}.npy\"])))\n",
    "    \n",
    "data_train = np.vstack(dtrain_list)\n",
    "del dtrain_list # to free some memory\n",
    "data_test = np.load(os.path.sep.join([data_directory, f\"data{nfiles-1}.npy\"]))"
   ]
  },
  {
   "cell_type": "code",
   "execution_count": 11,
   "metadata": {},
   "outputs": [
    {
     "data": {
      "text/plain": [
       "(10000, 144, 15, 25)"
      ]
     },
     "execution_count": 11,
     "metadata": {},
     "output_type": "execute_result"
    }
   ],
   "source": [
    "data_train.shape"
   ]
  },
  {
   "cell_type": "markdown",
   "metadata": {},
   "source": [
    "## Plot some label masks samples:"
   ]
  },
  {
   "cell_type": "code",
   "execution_count": 12,
   "metadata": {},
   "outputs": [],
   "source": [
    "import matplotlib as mpl\n",
    "from matplotlib.colors import ListedColormap, LinearSegmentedColormap\n",
    "if len(class_dict) > 10:\n",
    "    tab10_list = [mpl.cm.tab10.colors[i] for i in range(10)]\n",
    "    added_colors = [mpl.colors.to_rgb(c) for c in [\"#ebb50a\",\"lightgreen\"]][:len(class_dict)-10] # added color to standard tab10\n",
    "    my_cmap = ListedColormap(tab10_list + added_colors, name=\"my_cmap\")\n",
    "else:\n",
    "    my_cmap = ListedColormap([mpl.cm.tab10.colors[i] for i in range(len(class_dict))], name=\"my_cmap\")"
   ]
  },
  {
   "cell_type": "code",
   "execution_count": 13,
   "metadata": {},
   "outputs": [
    {
     "data": {
      "text/plain": [
       "<matplotlib.legend.Legend at 0x7f065736be50>"
      ]
     },
     "execution_count": 13,
     "metadata": {},
     "output_type": "execute_result"
    },
    {
     "data": {
      "image/png": "[encoded data removed]",
      "text/plain": [
       "<Figure size 300x180 with 1 Axes>"
      ]
     },
     "metadata": {},
     "output_type": "display_data"
    }
   ],
   "source": [
    "# show labels and colors:\n",
    "fig, ax = plt.subplots(figsize=(3, n_class*0.2))\n",
    "\n",
    "marker_size=6\n",
    "mew = 1.0\n",
    "custom_lines = [Line2D([0], [0], c=\"w\", marker='o', ms=marker_size, mfc=my_cmap.colors[i], mec=\"k\", lw=1.0, mew=mew) for i in range(len(class_dict))]\n",
    "\n",
    "ax.axis('off')\n",
    "ax.legend(custom_lines, ['background'] + list(class_dict.values())[1:], loc=\"lower right\", fontsize=12)"
   ]
  },
  {
   "cell_type": "code",
   "execution_count": 14,
   "metadata": {},
   "outputs": [
    {
     "data": {
      "image/png": "[encoded data removed]",
      "text/plain": [
       "<Figure size 1000x500 with 51 Axes>"
      ]
     },
     "metadata": {},
     "output_type": "display_data"
    }
   ],
   "source": [
    "# get masks for random samples\n",
    "fig, ax = plt.subplots(5,10,figsize=(1.0*10,1.0*5))\n",
    "#indsamps = np.random.choice(labmask_train.shape[0],size=50)\n",
    "indsamps = np.arange(50)\n",
    "\n",
    "ax = ax.ravel()\n",
    "for i,indi in enumerate(indsamps):\n",
    "    out = ax[i].pcolormesh(labmask_test[indi,:,:],vmin=0,vmax=n_class-1, cmap=my_cmap)\n",
    "    if i%10 != 0:\n",
    "        ax[i].set_yticklabels([])\n",
    "    if i < 40:\n",
    "        ax[i].set_xticklabels([])\n",
    "\n",
    "plt.setp(ax,aspect=1)\n",
    "\n",
    "fig.subplots_adjust(bottom=0.2)\n",
    "cbar_ax = fig.add_axes([0.25, 0.07, 0.5, 0.02])\n",
    "cb = plt.colorbar(out, cbar_ax, orientation=\"horizontal\")\n",
    "cb.set_label('class')"
   ]
  },
  {
   "cell_type": "markdown",
   "metadata": {},
   "source": [
    "### Normalize data and convert to torch tensors:"
   ]
  },
  {
   "cell_type": "code",
   "execution_count": 15,
   "metadata": {},
   "outputs": [],
   "source": [
    "use_scaled = False\n",
    "use_normalized = True"
   ]
  },
  {
   "cell_type": "code",
   "execution_count": 16,
   "metadata": {},
   "outputs": [],
   "source": [
    "ntimes = len(times)\n",
    "\n",
    "if use_scaled or use_normalized:\n",
    "    time_scaling = (times)\n",
    "    scaled_data_train = data_train * time_scaling\n",
    "    scaled_data_test = data_test * time_scaling\n",
    "    del data_train, data_test\n",
    "\n",
    "if use_normalized:\n",
    "    normalized_data_train = normalize_data(scaled_data_train)\n",
    "    del scaled_data_train\n",
    "    normalized_data_test = normalize_data(scaled_data_test)\n",
    "    del scaled_data_test\n",
    "\n",
    "normalized_data_train = data3dorder(normalized_data_train, survpars.sensor_type)\n",
    "normalized_data_test = data3dorder(normalized_data_test, survpars.sensor_type)"
   ]
  },
  {
   "cell_type": "code",
   "execution_count": 17,
   "metadata": {},
   "outputs": [],
   "source": [
    "if use_scaled is True: \n",
    "    X_train = torch.from_numpy(np.float32(scaled_data_train))\n",
    "    X_test = torch.from_numpy(np.float32(scaled_data_test))\n",
    "\n",
    "elif use_normalized is True: \n",
    "    X_train = torch.from_numpy(np.float32(normalized_data_train))\n",
    "    X_test = torch.from_numpy(np.float32(normalized_data_test))\n",
    "\n",
    "else: \n",
    "    X_train = torch.from_numpy(np.float32(data_train))\n",
    "    X_test = torch.from_numpy(np.float32(data_test))\n",
    "\n",
    "C_train = torch.from_numpy(np.float32(labmask_train)).long()\n",
    "C_test = torch.from_numpy(np.float32(labmask_test)).long()\n",
    "\n",
    "if use_normalized:\n",
    "    del normalized_data_train, normalized_data_test"
   ]
  },
  {
   "cell_type": "code",
   "execution_count": 18,
   "metadata": {},
   "outputs": [
    {
     "data": {
      "text/plain": [
       "torch.Size([10000, 12, 12, 15, 25])"
      ]
     },
     "execution_count": 18,
     "metadata": {},
     "output_type": "execute_result"
    }
   ],
   "source": [
    "X_train.shape"
   ]
  },
  {
   "cell_type": "markdown",
   "metadata": {},
   "source": [
    "### Train neural net:"
   ]
  },
  {
   "cell_type": "code",
   "execution_count": 19,
   "metadata": {},
   "outputs": [],
   "source": [
    "cnn_pars_dir = os.path.join(os.getcwd(), 'cnn_parameters')\n",
    "\n",
    "if not os.path.exists(cnn_pars_dir):\n",
    "    os.mkdir(cnn_pars_dir)"
   ]
  },
  {
   "cell_type": "code",
   "execution_count": 20,
   "metadata": {},
   "outputs": [
    {
     "name": "stdout",
     "output_type": "stream",
     "text": [
      "gpu detected, training will use it.\n",
      "Total number of parameters 784531\n",
      "Total number of training data 10000\n",
      "Initial loss =  2.1395016\n",
      "Check:log(9) =  2.1972245773362196\n",
      "\n",
      "Initial accuracy: 0.08727777777777777\n",
      "Check random    : 0.1111111111111111\n",
      "epoch:   0, loss_test: 6.844e-01, accuracy_test: 0.800\n",
      "epoch:   1, loss_test: 6.395e-01, accuracy_test: 0.826\n",
      "epoch:   2, loss_test: 6.119e-01, accuracy_test: 0.841\n",
      "epoch:   3, loss_test: 5.893e-01, accuracy_test: 0.855\n",
      "epoch:   4, loss_test: 5.761e-01, accuracy_test: 0.867\n",
      "epoch:   5, loss_test: 5.691e-01, accuracy_test: 0.875\n",
      "epoch:   6, loss_test: 5.654e-01, accuracy_test: 0.877\n",
      "epoch:   7, loss_test: 5.635e-01, accuracy_test: 0.879\n",
      "epoch:   8, loss_test: 5.581e-01, accuracy_test: 0.883\n",
      "epoch:   9, loss_test: 5.541e-01, accuracy_test: 0.885\n",
      "epoch:  10, loss_test: 5.513e-01, accuracy_test: 0.885\n",
      "epoch:  11, loss_test: 5.490e-01, accuracy_test: 0.886\n",
      "epoch:  12, loss_test: 5.463e-01, accuracy_test: 0.887\n",
      "epoch:  13, loss_test: 5.436e-01, accuracy_test: 0.889\n",
      "epoch:  14, loss_test: 5.429e-01, accuracy_test: 0.889\n",
      "epoch:  15, loss_test: 5.396e-01, accuracy_test: 0.891\n",
      "epoch:  16, loss_test: 5.376e-01, accuracy_test: 0.892\n",
      "epoch:  17, loss_test: 5.370e-01, accuracy_test: 0.893\n",
      "epoch:  18, loss_test: 5.353e-01, accuracy_test: 0.892\n",
      "epoch:  19, loss_test: 5.337e-01, accuracy_test: 0.893\n",
      "Finished Training in 208.0048 seconds\n"
     ]
    }
   ],
   "source": [
    "logfile = os.path.join(cnn_pars_dir, f'trainlog_{train_case}_{rseed}')\n",
    "net = train_net(survpars, class_dict, X_train, C_train, X_test[:1000], C_test[:1000], times, rseed, nepochs, logfile)"
   ]
  },
  {
   "cell_type": "code",
   "execution_count": 21,
   "metadata": {},
   "outputs": [],
   "source": [
    "# save trained parameters:\n",
    "torch.save(net.state_dict(), os.path.join(cnn_pars_dir, f'net{train_case}_{rseed}.pth'))"
   ]
  },
  {
   "cell_type": "code",
   "execution_count": 22,
   "metadata": {},
   "outputs": [],
   "source": [
    "# send cnn to cpu for evaluation:\n",
    "if torch.device != 'cpu':\n",
    "    net.cpu()"
   ]
  },
  {
   "cell_type": "code",
   "execution_count": 23,
   "metadata": {},
   "outputs": [
    {
     "data": {
      "text/plain": [
       "ConvNet(\n",
       "  (K3d): ParameterList(\n",
       "      (0): Parameter containing: [torch.FloatTensor of size 16x12x3x3x3]\n",
       "      (1): Parameter containing: [torch.FloatTensor of size 16x16x3x3x3]\n",
       "      (2): Parameter containing: [torch.FloatTensor of size 16x16x3x3x3]\n",
       "      (3): Parameter containing: [torch.FloatTensor of size 16x16x3x3x3]\n",
       "  )\n",
       "  (bnorms3d): ModuleList(\n",
       "    (0): BatchNorm3d(12, eps=1e-05, momentum=0.1, affine=True, track_running_stats=True)\n",
       "    (1): BatchNorm3d(16, eps=1e-05, momentum=0.1, affine=True, track_running_stats=True)\n",
       "    (2): BatchNorm3d(16, eps=1e-05, momentum=0.1, affine=True, track_running_stats=True)\n",
       "    (3): BatchNorm3d(16, eps=1e-05, momentum=0.1, affine=True, track_running_stats=True)\n",
       "    (4): BatchNorm3d(16, eps=1e-05, momentum=0.1, affine=True, track_running_stats=True)\n",
       "  )\n",
       "  (K2d): ParameterList(\n",
       "      (0): Parameter containing: [torch.FloatTensor of size 128x400x3x3]\n",
       "      (1): Parameter containing: [torch.FloatTensor of size 128x128x3x3]\n",
       "      (2): Parameter containing: [torch.FloatTensor of size 128x128x3x3]\n",
       "  )\n",
       "  (bnorms2d): ModuleList(\n",
       "    (0): BatchNorm2d(400, eps=1e-05, momentum=0.1, affine=True, track_running_stats=True)\n",
       "    (1): BatchNorm2d(128, eps=1e-05, momentum=0.1, affine=True, track_running_stats=True)\n",
       "    (2): BatchNorm2d(128, eps=1e-05, momentum=0.1, affine=True, track_running_stats=True)\n",
       "    (3): BatchNorm2d(128, eps=1e-05, momentum=0.1, affine=True, track_running_stats=True)\n",
       "  )\n",
       "  (bnout): BatchNorm2d(9, eps=1e-05, momentum=0.1, affine=True, track_running_stats=True)\n",
       ")"
      ]
     },
     "execution_count": 23,
     "metadata": {},
     "output_type": "execute_result"
    }
   ],
   "source": [
    "net.eval()"
   ]
  },
  {
   "cell_type": "code",
   "execution_count": 24,
   "metadata": {},
   "outputs": [
    {
     "data": {
      "text/plain": [
       "device(type='cpu')"
      ]
     },
     "execution_count": 24,
     "metadata": {},
     "output_type": "execute_result"
    }
   ],
   "source": [
    "X_train.device"
   ]
  },
  {
   "cell_type": "code",
   "execution_count": 25,
   "metadata": {},
   "outputs": [
    {
     "name": "stdout",
     "output_type": "stream",
     "text": [
      "training accuracy: 0.8935\n",
      "test accuracy    : 0.9022\n"
     ]
    }
   ],
   "source": [
    "nsamples_eval = 100\n",
    "# training set\n",
    "x_train_net, probs_train = net(X_train[:nsamples_eval])\n",
    "_, pred_train = torch.max(probs_train, dim=1)\n",
    "\n",
    "# test set\n",
    "x_test_net, probs_test = net(X_test[:nsamples_eval])\n",
    "_, pred_test = torch.max(probs_test, dim=1)\n",
    "\n",
    "print(f\"training accuracy: {accuracy(probs_train, C_train[:nsamples_eval]):1.4f}\")\n",
    "print(f\"test accuracy    : {accuracy(probs_test, C_test[:nsamples_eval]):1.4f}\")\n",
    "\n",
    "#cc = probs_to_classes(probs_train)"
   ]
  },
  {
   "cell_type": "code",
   "execution_count": 26,
   "metadata": {},
   "outputs": [],
   "source": [
    "# See where it struggled:\n",
    "M = confusion_matrix(labmask_train[:100].reshape(100,-1), pred_train[:100].numpy().reshape(100,-1))"
   ]
  },
  {
   "cell_type": "code",
   "execution_count": 27,
   "metadata": {},
   "outputs": [
    {
     "data": {
      "text/plain": [
       "array([[11754,   220,   216,   197,    85,   210,   192,   210,   236],\n",
       "       [    0,   795,   191,     0,     0,     0,     0,     0,     0],\n",
       "       [    0,     1,   529,     0,     0,     0,     0,     0,     0],\n",
       "       [    2,     0,    17,   512,     0,     0,     0,     0,     0],\n",
       "       [    0,     0,     0,     0,   269,     0,     0,     0,    62],\n",
       "       [    2,     0,     0,     0,     0,   608,     0,     0,    20],\n",
       "       [    0,     0,     0,     0,     0,     0,   579,     0,     0],\n",
       "       [    1,     0,     0,     0,     0,     0,     0,   592,     0],\n",
       "       [   33,     0,     0,     0,     0,     0,    22,     0,   445]])"
      ]
     },
     "execution_count": 27,
     "metadata": {},
     "output_type": "execute_result"
    }
   ],
   "source": [
    "M"
   ]
  },
  {
   "cell_type": "markdown",
   "metadata": {},
   "source": [
    "### Plot predicted vs true"
   ]
  },
  {
   "cell_type": "code",
   "execution_count": 28,
   "metadata": {},
   "outputs": [
    {
     "data": {
      "image/png": "[encoded data removed]",
      "text/plain": [
       "<Figure size 900x200 with 9 Axes>"
      ]
     },
     "metadata": {},
     "output_type": "display_data"
    }
   ],
   "source": [
    "indt = 3\n",
    "fig,ax = plt.subplots(1,n_class,figsize=(1.0*n_class,2.0))\n",
    "\n",
    "for i in range(n_class):\n",
    "    ax[i].pcolormesh(probs_test[indt,i,:,:].detach(),vmin=0,vmax=1,cmap='viridis')\n",
    "    ax[i].set_aspect(1)"
   ]
  },
  {
   "cell_type": "code",
   "execution_count": 29,
   "metadata": {},
   "outputs": [
    {
     "data": {
      "image/png": "[encoded data removed]",
      "text/plain": [
       "<Figure size 300x200 with 2 Axes>"
      ]
     },
     "metadata": {},
     "output_type": "display_data"
    }
   ],
   "source": [
    "fig,ax = plt.subplots(1,2,figsize=(1.5*2,2.0))\n",
    "\n",
    "ax[0].pcolormesh(labmask_test[indt,:,:],vmin=0,vmax=n_class-1,cmap=my_cmap)\n",
    "ax[0].set_aspect(1)\n",
    "ax[1].pcolormesh(pred_test[indt,:,:],vmin=0,vmax=n_class-1,cmap=my_cmap)\n",
    "ax[1].set_aspect(1)"
   ]
  },
  {
   "cell_type": "code",
   "execution_count": null,
   "metadata": {},
   "outputs": [],
   "source": []
  }
 ],
 "metadata": {
  "kernelspec": {
   "display_name": "pytorch",
   "language": "python",
   "name": "pytorch"
  },
  "language_info": {
   "codemirror_mode": {
    "name": "ipython",
    "version": 3
   },
   "file_extension": ".py",
   "mimetype": "text/x-python",
   "name": "python",
   "nbconvert_exporter": "python",
   "pygments_lexer": "ipython3",
   "version": "3.10.6"
  }
 },
 "nbformat": 4,
 "nbformat_minor": 4
}
